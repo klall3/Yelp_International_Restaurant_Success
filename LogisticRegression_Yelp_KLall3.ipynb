{
 "cells": [
  {
   "cell_type": "code",
   "execution_count": 763,
   "metadata": {
    "collapsed": false
   },
   "outputs": [],
   "source": [
    "import numpy as np\n",
    "import pandas as pd\n",
    "import statsmodels.api as sm\n",
    "import matplotlib.pyplot as plt\n",
    "from patsy import dmatrices\n",
    "from sklearn.linear_model import LogisticRegression\n",
    "from sklearn.cross_validation import train_test_split\n",
    "from sklearn import metrics\n",
    "from sklearn.cross_validation import cross_val_score\n",
    "from sklearn.preprocessing import OneHotEncoder\n",
    "\n",
    "#Import .csv file to pandas\n",
    "df = pd.read_csv('International_Yelp.csv')\n",
    "\n",
    "#Create input and output data sets\n",
    "X = df.drop('stars',1)\n",
    "Y = df.stars\n",
    "\n",
    "#Create a new binary output variable Success, Success = 1 if stars>=4, else 0 \n",
    "df['success'] = [1 if x>=4 else 0 for x in df['stars'] ]\n",
    "\n",
    "X = df.drop('stars',1)\n",
    "X = X.drop('success',1)\n",
    "Y = df.success\n",
    "\n",
    "#X , Y\n",
    "\n"
   ]
  },
  {
   "cell_type": "code",
   "execution_count": 764,
   "metadata": {
    "collapsed": false
   },
   "outputs": [],
   "source": [
    "# A function to covert all the categorical predictors to numeric \n",
    "def dummy_df(df, list):\n",
    "    for x in list:\n",
    "        dummies = pd.get_dummies(df[x], prefix=x, dummy_na = False)\n",
    "        df = df.drop(x,1)\n",
    "        df = pd.concat([df, dummies], axis=1)\n",
    "    return df \n",
    "\n",
    "#Create a list of categorical predictors \n",
    "\n",
    "list = ['Good_For_Latenight', 'Outdoor_Seating' , 'Alcohol', 'Ambience_classy' , 'Parking_Lot' , 'Ambience_Touristy' , \n",
    "         'Good_For_Brunch' , 'Waiter_Service' , 'Parking_Street' , 'Ambience_Hipster' , 'Good_For_Breakfast' , \n",
    "         'Parking_Garage' , 'Accepts_Credit_Cards' , 'Good_For_Lunch' , 'valet','Take_out','Good_For_dessert' ,\n",
    "         'Takes_Reservations' , 'Ambience_Trendy' , 'Delivery' , 'WiFi', 'Wheelchair_Accessible' ,\n",
    "         'Caters' , 'Good_For_Dinner','Good_For_Kids' , 'Parking_Validated', 'Has_TV' , 'Ambience_Casual',\n",
    "         'Drive_Thru', 'Noise_Level' ,'Smoking' , 'Attire' , 'Good_For_Groups']\n",
    "\n",
    "X = dummy_df(X,list)\n"
   ]
  },
  {
   "cell_type": "code",
   "execution_count": 765,
   "metadata": {
    "collapsed": false
   },
   "outputs": [],
   "source": [
    "# Removing NaN values \n",
    "from sklearn.preprocessing import Imputer\n",
    "imp = Imputer(missing_values= 'NaN', strategy = 'median' , axis = 0)\n",
    "imp.fit(X)\n",
    "X = pd.DataFrame(imp.transform(X), columns=X.columns)\n"
   ]
  },
  {
   "cell_type": "code",
   "execution_count": 766,
   "metadata": {
    "collapsed": false
   },
   "outputs": [],
   "source": [
    "# normalization of values\n",
    "from sklearn import preprocessing\n",
    "\n",
    "min_max_scaler = preprocessing.MinMaxScaler()\n",
    "#X = min_max_scaler.fit_transform(X)\n",
    "X = pd.DataFrame(min_max_scaler.fit_transform(X), columns=X.columns)\n"
   ]
  },
  {
   "cell_type": "code",
   "execution_count": 767,
   "metadata": {
    "collapsed": false
   },
   "outputs": [
    {
     "name": "stdout",
     "output_type": "stream",
     "text": [
      "(26729, 37)\n",
      "(26729, 74)\n",
      "(18710, 74)\n",
      "(8019, 74)\n"
     ]
    }
   ],
   "source": [
    "X_train, X_test, Y_train, Y_test = train_test_split(X, Y, train_size=0.7, random_state=1)\n",
    "print (df.shape)\n",
    "print (X.shape)\n",
    "print(X_train.shape)\n",
    "print(X_test.shape)"
   ]
  },
  {
   "cell_type": "code",
   "execution_count": 768,
   "metadata": {
    "collapsed": false
   },
   "outputs": [],
   "source": [
    "#Feature selection using Chi square \n",
    "import sklearn.feature_selection\n",
    "from sklearn.feature_selection import chi2\n",
    "select = sklearn.feature_selection.SelectKBest(score_func=chi2,k=60)\n",
    "#select = sklearn.feature_selection.SelectKBest(k=60)\n",
    "selected_features = select.fit(X_train, Y_train)\n",
    "indices_selected = selected_features.get_support(indices=True)\n",
    "colnames_selected = [X.columns[i] for i in indices_selected]\n",
    "\n",
    "X_train_selected = X_train[colnames_selected]\n",
    "X_test_selected = X_test[colnames_selected]"
   ]
  },
  {
   "cell_type": "code",
   "execution_count": 769,
   "metadata": {
    "collapsed": false
   },
   "outputs": [
    {
     "data": {
      "text/plain": [
       "['Price_Range',\n",
       " 'review_count',\n",
       " 'Good_For_Latenight_False',\n",
       " 'Good_For_Latenight_True',\n",
       " 'Outdoor_Seating_False',\n",
       " 'Outdoor_Seating_True',\n",
       " 'Alcohol_beer_and_wine',\n",
       " 'Alcohol_full_bar',\n",
       " 'Ambience_classy_False',\n",
       " 'Ambience_classy_True',\n",
       " 'Parking_Lot_True',\n",
       " 'Ambience_Touristy_False',\n",
       " 'Ambience_Touristy_True',\n",
       " 'Good_For_Brunch_True',\n",
       " 'Waiter_Service_False',\n",
       " 'Waiter_Service_True',\n",
       " 'Parking_Street_False',\n",
       " 'Parking_Street_True',\n",
       " 'Ambience_Hipster_False',\n",
       " 'Ambience_Hipster_True',\n",
       " 'Good_For_Breakfast_False',\n",
       " 'Good_For_Breakfast_True',\n",
       " 'Parking_Garage_False',\n",
       " 'Parking_Garage_True',\n",
       " 'Accepts_Credit_Cards_False',\n",
       " 'Accepts_Credit_Cards_True',\n",
       " 'Good_For_Lunch_False',\n",
       " 'Good_For_Lunch_True',\n",
       " 'valet_False',\n",
       " 'valet_True',\n",
       " 'Take_out_False',\n",
       " 'Good_For_dessert_True',\n",
       " 'Takes_Reservations_False',\n",
       " 'Takes_Reservations_True',\n",
       " 'Ambience_Trendy_False',\n",
       " 'Ambience_Trendy_True',\n",
       " 'Delivery_False',\n",
       " 'WiFi_free',\n",
       " 'WiFi_no',\n",
       " 'WiFi_paid',\n",
       " 'Wheelchair_Accessible_False',\n",
       " 'Wheelchair_Accessible_True',\n",
       " 'Caters_False',\n",
       " 'Caters_True',\n",
       " 'Good_For_Dinner_True',\n",
       " 'Good_For_Kids_False',\n",
       " 'Parking_Validated_False',\n",
       " 'Parking_Validated_True',\n",
       " 'Has_TV_False',\n",
       " 'Ambience_Casual_True',\n",
       " 'Drive_Thru_False',\n",
       " 'Drive_Thru_True',\n",
       " 'Noise_Level_average',\n",
       " 'Noise_Level_loud',\n",
       " 'Noise_Level_quiet',\n",
       " 'Noise_Level_very_loud',\n",
       " 'Smoking_no',\n",
       " 'Smoking_outdoor',\n",
       " 'Smoking_yes',\n",
       " 'Attire_dressy']"
      ]
     },
     "execution_count": 769,
     "metadata": {},
     "output_type": "execute_result"
    }
   ],
   "source": [
    "# check which columns were selected \n",
    "colnames_selected"
   ]
  },
  {
   "cell_type": "code",
   "execution_count": 770,
   "metadata": {
    "collapsed": false
   },
   "outputs": [
    {
     "name": "stdout",
     "output_type": "stream",
     "text": [
      "0.69064668763\n"
     ]
    }
   ],
   "source": [
    "from sklearn.linear_model import LogisticRegression\n",
    "from sklearn.metrics import roc_auc_score\n",
    "\n",
    "# Function to calculate AUC using roc_auc_score\n",
    "def model_score(x_train, y_train, x_test, y_test):\n",
    "    model = LogisticRegression(penalty='l2', C=100)\n",
    "    model.fit(x_train, Y_train)\n",
    "    y_hat = [x[1] for x in model.predict_proba(x_test)]\n",
    "    auc = roc_auc_score(y_test, y_hat)\n",
    "    return auc\n",
    "\n",
    "auc_processed = model_score(X_train_selected, Y_train, X_test_selected, Y_test)\n",
    "print auc_processed\n"
   ]
  },
  {
   "cell_type": "code",
   "execution_count": 771,
   "metadata": {
    "collapsed": false
   },
   "outputs": [
    {
     "data": {
      "text/plain": [
       "0.66750400855157666"
      ]
     },
     "execution_count": 771,
     "metadata": {},
     "output_type": "execute_result"
    }
   ],
   "source": [
    "#Caluculate Model score by applying logistic regression\n",
    "model = LogisticRegression(penalty='l2', C=10)\n",
    "model.fit(X_train_selected, Y_train)\n",
    "model.score(X_train_selected, Y_train, sample_weight=None)"
   ]
  },
  {
   "cell_type": "code",
   "execution_count": 772,
   "metadata": {
    "collapsed": false
   },
   "outputs": [
    {
     "data": {
      "text/plain": [
       "0.66305025564284825"
      ]
     },
     "execution_count": 772,
     "metadata": {},
     "output_type": "execute_result"
    }
   ],
   "source": [
    "#Calculate Model score for test data using the same model\n",
    "model.score(X_test_selected, Y_test, sample_weight=None)"
   ]
  },
  {
   "cell_type": "code",
   "execution_count": 773,
   "metadata": {
    "collapsed": false,
    "scrolled": true
   },
   "outputs": [
    {
     "name": "stdout",
     "output_type": "stream",
     "text": [
      "[ 0.66529544  0.6525804   0.64098728  0.64908343  0.6187804   0.68200524\n",
      "  0.62874251  0.64483533  0.64708084  0.62163174]\n",
      "0.645102260654\n"
     ]
    }
   ],
   "source": [
    "#Calculate 10 fold cross validation score\n",
    "scores = cross_val_score(LogisticRegression(), X, Y, scoring='accuracy', cv=10)\n",
    "print scores\n",
    "print scores.mean()"
   ]
  },
  {
   "cell_type": "code",
   "execution_count": 16,
   "metadata": {
    "collapsed": false,
    "scrolled": true
   },
   "outputs": [
    {
     "name": "stderr",
     "output_type": "stream",
     "text": [
      "C:\\Program Files\\Anaconda2\\lib\\site-packages\\sklearn\\utils\\validation.py:386: DeprecationWarning: Passing 1d arrays as data is deprecated in 0.17 and willraise ValueError in 0.19. Reshape your data either using X.reshape(-1, 1) if your data has a single feature or X.reshape(1, -1) if it contains a single sample.\n",
      "  DeprecationWarning)\n"
     ]
    },
    {
     "data": {
      "text/plain": [
       "array([[  4.66663165e-07,   9.99999533e-01]])"
      ]
     },
     "execution_count": 16,
     "metadata": {},
     "output_type": "execute_result"
    }
   ],
   "source": [
    "#Predict Probabilty of a successful restaurant\n",
    "\n",
    "model.predict_proba(np.array([2, 10, 0, 1, 0, 1, 1, 0, 0, 0, 0, 0, 1, 1, 0, 0,\n",
    "                              1, 1, 1, 0]))"
   ]
  },
  {
   "cell_type": "code",
   "execution_count": 724,
   "metadata": {
    "collapsed": false
   },
   "outputs": [
    {
     "name": "stdout",
     "output_type": "stream",
     "text": [
      "Warning: Maximum number of iterations has been exceeded.\n",
      "         Current function value: 0.591349\n",
      "         Iterations: 35\n"
     ]
    },
    {
     "name": "stderr",
     "output_type": "stream",
     "text": [
      "C:\\Program Files\\Anaconda2\\lib\\site-packages\\statsmodels\\base\\model.py:466: ConvergenceWarning: Maximum Likelihood optimization failed to converge. Check mle_retvals\n",
      "  \"Check mle_retvals\", ConvergenceWarning)\n"
     ]
    }
   ],
   "source": [
    "import statsmodels.api as sm\n",
    "\n",
    "logit = sm.Logit(Y, X)\n",
    "result = logit.fit()"
   ]
  },
  {
   "cell_type": "code",
   "execution_count": 725,
   "metadata": {
    "collapsed": false
   },
   "outputs": [
    {
     "name": "stdout",
     "output_type": "stream",
     "text": [
      "                           Logit Regression Results                           \n",
      "==============================================================================\n",
      "Dep. Variable:                success   No. Observations:                21066\n",
      "Model:                          Logit   Df Residuals:                    21001\n",
      "Method:                           MLE   Df Model:                           64\n",
      "Date:                Wed, 30 Nov 2016   Pseudo R-squ.:                 0.09928\n",
      "Time:                        23:39:22   Log-Likelihood:                -12457.\n",
      "converged:                      False   LL-Null:                       -13830.\n",
      "                                        LLR p-value:                     0.000\n",
      "===============================================================================================\n",
      "                                  coef    std err          z      P>|z|      [95.0% Conf. Int.]\n",
      "-----------------------------------------------------------------------------------------------\n",
      "Price_Range                    -0.3480      0.110     -3.172      0.002        -0.563    -0.133\n",
      "review_count                   20.7211      1.032     20.085      0.000        18.699    22.743\n",
      "Good_For_Latenight_False        3.4532   8.38e+05   4.12e-06      1.000     -1.64e+06  1.64e+06\n",
      "Good_For_Latenight_True         2.9444   8.58e+05   3.43e-06      1.000     -1.68e+06  1.68e+06\n",
      "Outdoor_Seating_False           0.0524      0.088      0.597      0.550        -0.120     0.224\n",
      "Outdoor_Seating_True            0.1622      0.090      1.799      0.072        -0.015     0.339\n",
      "Alcohol_beer_and_wine           0.1119      0.080      1.397      0.162        -0.045     0.269\n",
      "Alcohol_full_bar               -0.6665      0.081     -8.258      0.000        -0.825    -0.508\n",
      "Alcohol_none                    0.1413      0.070      2.018      0.044         0.004     0.278\n",
      "Ambience_classy_False           0.6925   5.38e+05   1.29e-06      1.000     -1.05e+06  1.05e+06\n",
      "Ambience_classy_True            0.9543   5.47e+05   1.75e-06      1.000     -1.07e+06  1.07e+06\n",
      "Parking_Lot_False               3.7305   9.34e+05   3.99e-06      1.000     -1.83e+06  1.83e+06\n",
      "Parking_Lot_True                3.9999   9.22e+05   4.34e-06      1.000     -1.81e+06  1.81e+06\n",
      "Ambience_Touristy_False         1.2453        nan        nan        nan           nan       nan\n",
      "Ambience_Touristy_True         -0.5790        nan        nan        nan           nan       nan\n",
      "Good_For_Brunch_False          -0.9893      0.890     -1.112      0.266        -2.733     0.754\n",
      "Good_For_Brunch_True           -0.8005      0.892     -0.898      0.369        -2.548     0.947\n",
      "Waiter_Service_False           -0.2898      0.073     -3.961      0.000        -0.433    -0.146\n",
      "Waiter_Service_True            -0.3021      0.076     -3.976      0.000        -0.451    -0.153\n",
      "Parking_Street_False            3.4463   1.15e+05   2.99e-05      1.000     -2.26e+05  2.26e+05\n",
      "Parking_Street_True             3.9758   2.06e+05   1.93e-05      1.000     -4.03e+05  4.03e+05\n",
      "Ambience_Hipster_False         -0.7448   5.15e+05  -1.45e-06      1.000     -1.01e+06  1.01e+06\n",
      "Ambience_Hipster_True          -0.1772   4.98e+05  -3.56e-07      1.000     -9.75e+05  9.75e+05\n",
      "Good_For_Breakfast_False      -10.0416    126.650     -0.079      0.937      -258.271   238.188\n",
      "Good_For_Breakfast_True       -10.2663    126.650     -0.081      0.935      -258.496   237.963\n",
      "Parking_Garage_False          -14.5616   2857.501     -0.005      0.996     -5615.161  5586.038\n",
      "Parking_Garage_True           -14.9547   2857.502     -0.005      0.996     -5615.556  5585.646\n",
      "Accepts_Credit_Cards_False      0.3514      0.146      2.408      0.016         0.065     0.637\n",
      "Accepts_Credit_Cards_True      -0.5449      0.100     -5.440      0.000        -0.741    -0.349\n",
      "Good_For_Lunch_False            3.2061   6.04e+04   5.31e-05      1.000     -1.18e+05  1.18e+05\n",
      "Good_For_Lunch_True             3.1915   1.25e+05   2.56e-05      1.000     -2.44e+05  2.44e+05\n",
      "valet_False                     3.8067        nan        nan        nan           nan       nan\n",
      "valet_True                      3.7696        nan        nan        nan           nan       nan\n",
      "Take_out_False                  0.3658      0.120      3.054      0.002         0.131     0.601\n",
      "Take_out_True                   0.0539      0.096      0.559      0.576        -0.135     0.243\n",
      "Good_For_dessert_False          1.3065      0.887      1.473      0.141        -0.432     3.046\n",
      "Good_For_dessert_True           1.9322      0.892      2.166      0.030         0.184     3.681\n",
      "Takes_Reservations_False       -0.0359      0.086     -0.415      0.678        -0.205     0.134\n",
      "Takes_Reservations_True         0.1150      0.091      1.260      0.208        -0.064     0.294\n",
      "Ambience_Trendy_False          -1.0591    5.7e+05  -1.86e-06      1.000     -1.12e+06  1.12e+06\n",
      "Ambience_Trendy_True           -0.9939   5.75e+05  -1.73e-06      1.000     -1.13e+06  1.13e+06\n",
      "Delivery_False                  0.0095      0.083      0.114      0.909        -0.154     0.173\n",
      "Delivery_True                  -0.2562      0.088     -2.914      0.004        -0.429    -0.084\n",
      "WiFi_free                       0.2581      0.059      4.379      0.000         0.143     0.374\n",
      "WiFi_no                         0.0835      0.055      1.512      0.131        -0.025     0.192\n",
      "WiFi_paid                      -0.4536      0.237     -1.911      0.056        -0.919     0.012\n",
      "Wheelchair_Accessible_False    -0.3618      0.094     -3.832      0.000        -0.547    -0.177\n",
      "Wheelchair_Accessible_True     -0.0810      0.039     -2.080      0.037        -0.157    -0.005\n",
      "Caters_False                   -0.2080      0.055     -3.801      0.000        -0.315    -0.101\n",
      "Caters_True                     0.2098      0.053      3.932      0.000         0.105     0.314\n",
      "Good_For_Dinner_False           3.2147      1e+06    3.2e-06      1.000     -1.97e+06  1.97e+06\n",
      "Good_For_Dinner_True            3.1829      1e+06   3.17e-06      1.000     -1.97e+06  1.97e+06\n",
      "Good_For_Kids_False             0.2408      0.110      2.192      0.028         0.025     0.456\n",
      "Good_For_Kids_True              0.0151      0.102      0.148      0.882        -0.185     0.215\n",
      "Parking_Validated_False         3.6356      8e+05   4.55e-06      1.000     -1.57e+06  1.57e+06\n",
      "Parking_Validated_True          3.9406   8.05e+05   4.89e-06      1.000     -1.58e+06  1.58e+06\n",
      "Has_TV_False                    0.1491      0.078      1.910      0.056        -0.004     0.302\n",
      "Has_TV_True                     0.2529      0.078      3.228      0.001         0.099     0.406\n",
      "Ambience_Casual_False          -0.0158        nan        nan        nan           nan       nan\n",
      "Ambience_Casual_True           -0.1496        nan        nan        nan           nan       nan\n",
      "Drive_Thru_False               -0.4720      0.060     -7.859      0.000        -0.590    -0.354\n",
      "Drive_Thru_True                -1.3667      0.081    -16.798      0.000        -1.526    -1.207\n",
      "Noise_Level_average            -0.0288      0.071     -0.405      0.686        -0.168     0.111\n",
      "Noise_Level_loud               -0.6973      0.103     -6.787      0.000        -0.899    -0.496\n",
      "Noise_Level_quiet               0.2769      0.074      3.744      0.000         0.132     0.422\n",
      "Noise_Level_very_loud          -1.4877      0.180     -8.244      0.000        -1.841    -1.134\n",
      "Smoking_no                      0.1018      0.082      1.237      0.216        -0.059     0.263\n",
      "Smoking_outdoor                -0.1229      0.089     -1.384      0.166        -0.297     0.051\n",
      "Smoking_yes                     0.3992      0.146      2.727      0.006         0.112     0.686\n",
      "Attire_casual                  -0.0850      0.103     -0.826      0.409        -0.287     0.117\n",
      "Attire_dressy                   0.7057      0.157      4.483      0.000         0.397     1.014\n",
      "Attire_formal                   0.7481      0.403      1.854      0.064        -0.043     1.539\n",
      "Good_For_Groups_False          -0.5521      0.109     -5.064      0.000        -0.766    -0.338\n",
      "Good_For_Groups_True           -0.4440      0.103     -4.331      0.000        -0.645    -0.243\n",
      "===============================================================================================\n"
     ]
    }
   ],
   "source": [
    "# Print Model Stat Summary \n",
    "print result.summary()\n"
   ]
  }
 ],
 "metadata": {
  "anaconda-cloud": {},
  "kernelspec": {
   "display_name": "Python [default]",
   "language": "python",
   "name": "python2"
  },
  "language_info": {
   "codemirror_mode": {
    "name": "ipython",
    "version": 2
   },
   "file_extension": ".py",
   "mimetype": "text/x-python",
   "name": "python",
   "nbconvert_exporter": "python",
   "pygments_lexer": "ipython2",
   "version": "2.7.12"
  }
 },
 "nbformat": 4,
 "nbformat_minor": 1
}
